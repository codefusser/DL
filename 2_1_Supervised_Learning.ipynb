{
  "nbformat": 4,
  "nbformat_minor": 0,
  "metadata": {
    "colab": {
      "provenance": [],
      "authorship_tag": "ABX9TyMBH8HVZrQct9uahy9ldszt",
      "include_colab_link": true
    },
    "kernelspec": {
      "name": "python3",
      "display_name": "Python 3"
    },
    "language_info": {
      "name": "python"
    }
  },
  "cells": [
    {
      "cell_type": "markdown",
      "metadata": {
        "id": "view-in-github",
        "colab_type": "text"
      },
      "source": [
        "<a href=\"https://colab.research.google.com/github/codefusser/DL/blob/main/2_1_Supervised_Learning.ipynb\" target=\"_parent\"><img src=\"https://colab.research.google.com/assets/colab-badge.svg\" alt=\"Open In Colab\"/></a>"
      ]
    },
    {
      "cell_type": "code",
      "execution_count": 1,
      "metadata": {
        "id": "Z4KYiRcOSkUu"
      },
      "outputs": [],
      "source": [
        "# math library\n",
        "import numpy as np\n",
        "# import ploting library\n",
        "import matplotlib.pyplot as plt"
      ]
    },
    {
      "cell_type": "code",
      "source": [
        "# create some input and output data\n",
        "# x = np.linspace(0, 2, 12)\n",
        "# y = np.sin(x)\n",
        "x = np.array([0.03, 0.19, 0.34, 0.46, 0.78, 0.81, 1.08, 1.18, 1.39, 1.60, 1.65, 1.90])\n",
        "y = np.array([0.67, 0.85, 1.05, 1.0, 1.40, 1.5, 1.3, 1.54, 1.55, 1.68, 1.73, 1.6 ])\n",
        "\n",
        "# printout\n",
        "print(x)\n",
        "print(y)"
      ],
      "metadata": {
        "colab": {
          "base_uri": "https://localhost:8080/"
        },
        "id": "r7GmJpJbkFas",
        "outputId": "beac7a83-af1c-40e7-e410-214f40cb0cf7"
      },
      "execution_count": 61,
      "outputs": [
        {
          "output_type": "stream",
          "name": "stdout",
          "text": [
            "[0.03 0.19 0.34 0.46 0.78 0.81 1.08 1.18 1.39 1.6  1.65 1.9 ]\n",
            "[0.67 0.85 1.05 1.   1.4  1.5  1.3  1.54 1.55 1.68 1.73 1.6 ]\n"
          ]
        }
      ]
    },
    {
      "cell_type": "code",
      "source": [
        "# define 1D regression model\n",
        "def reg_model(x, phi0, phi1):\n",
        "    return phi0 * x + phi1"
      ],
      "metadata": {
        "id": "pkbjj6oQkt5V"
      },
      "execution_count": 54,
      "outputs": []
    },
    {
      "cell_type": "code",
      "source": [
        "# create a function for plotting this data\n",
        "def plot_1D(x, y, phi0, phi1):\n",
        "  fig, ax = plt.subplots()\n",
        "  ax.scatter(x, y)\n",
        "  plt.xlim([0, 2.0])\n",
        "  plt.ylim([0, 2.0])\n",
        "  # ax.plot(x, reg_model(x, phi0, phi1))\n",
        "  ax.set_xlabel('x')\n",
        "  ax.set_ylabel('y')\n",
        "\n",
        "  # draw a line\n",
        "  x_line = np.arange(0, 2, 0.01)\n",
        "  y_line = reg_model(x_line, phi0, phi1) # Calculate y_line using x_line\n",
        "\n",
        "  # plot a line\n",
        "  plt.plot(x_line, y_line, 'b-',lw=2)\n",
        "  # ax.axvline(x=0, color='k', linestyle='--')\n",
        "  plt.show()"
      ],
      "metadata": {
        "id": "TNcS1aD4lpWO"
      },
      "execution_count": 55,
      "outputs": []
    },
    {
      "cell_type": "code",
      "source": [
        "# plot the graph\n",
        "# set the intercept and slope\n",
        "phi0 = 0.4; phi1 = 0.2\n",
        "y = reg_model(x, phi0, phi1)\n",
        "plot_1D(x, y, phi0, phi1)\n"
      ],
      "metadata": {
        "colab": {
          "base_uri": "https://localhost:8080/",
          "height": 455
        },
        "id": "VQ9OydVdofj4",
        "outputId": "95144e75-742d-43c0-b7f7-f217be00950b"
      },
      "execution_count": 75,
      "outputs": [
        {
          "output_type": "display_data",
          "data": {
            "text/plain": [
              "<Figure size 640x480 with 1 Axes>"
            ],
            "image/png": "[encoded data removed]"
          },
          "metadata": {}
        }
      ]
    },
    {
      "cell_type": "code",
      "source": [
        "print(x)\n",
        "print(y)"
      ],
      "metadata": {
        "colab": {
          "base_uri": "https://localhost:8080/"
        },
        "id": "Vpp6covb4bWp",
        "outputId": "5188cca6-4034-4470-8986-f8bc92c6f002"
      },
      "execution_count": 63,
      "outputs": [
        {
          "output_type": "stream",
          "name": "stdout",
          "text": [
            "[0.03 0.19 0.34 0.46 0.78 0.81 1.08 1.18 1.39 1.6  1.65 1.9 ]\n",
            "[0.67 0.85 1.05 1.   1.4  1.5  1.3  1.54 1.55 1.68 1.73 1.6 ]\n"
          ]
        }
      ]
    },
    {
      "cell_type": "code",
      "source": [
        "# function to calculate the loss\n",
        "def loss(x, y, phi0, phi1):\n",
        "    return np.sum((y - reg_model(x, phi0, phi1))**2)"
      ],
      "metadata": {
        "id": "mS9inFA1uPr-"
      },
      "execution_count": 76,
      "outputs": []
    },
    {
      "cell_type": "code",
      "source": [
        "# compute the loss for our current model\n",
        "fn_loss = loss(x, y, phi0, phi1)\n",
        "print(f\"The loss function for the linear regression model is: {fn_loss}\")"
      ],
      "metadata": {
        "colab": {
          "base_uri": "https://localhost:8080/"
        },
        "id": "Cu5z6xHYvQ49",
        "outputId": "2f6e5c9e-c2d8-4e2b-9dab-7ee811ea3b3e"
      },
      "execution_count": 77,
      "outputs": [
        {
          "output_type": "stream",
          "name": "stdout",
          "text": [
            "The loss function for the linear regression model is: 0.0\n"
          ]
        }
      ]
    },
    {
      "cell_type": "code",
      "source": [
        "# Compute the loss for our current model\n",
        "op_loss = loss(x,y,phi0,phi1)\n",
        "print(f'Your Loss = {op_loss:3.2f}, Ground truth =7.07')"
      ],
      "metadata": {
        "colab": {
          "base_uri": "https://localhost:8080/"
        },
        "id": "P_hMeMaVzZ9l",
        "outputId": "2f57852e-6522-4737-aa12-20a34e213927"
      },
      "execution_count": 78,
      "outputs": [
        {
          "output_type": "stream",
          "name": "stdout",
          "text": [
            "Your Loss = 0.00, Ground truth =7.07\n"
          ]
        }
      ]
    },
    {
      "cell_type": "markdown",
      "source": [],
      "metadata": {
        "id": "6ZaJ5MVs6Zx_"
      }
    },
    {
      "cell_type": "code",
      "source": [
        "print(x)\n",
        "print(y)"
      ],
      "metadata": {
        "colab": {
          "base_uri": "https://localhost:8080/"
        },
        "id": "UWU-lZjc6YTl",
        "outputId": "6f0c526a-c626-4143-c6b2-18091d515824"
      },
      "execution_count": 69,
      "outputs": [
        {
          "output_type": "stream",
          "name": "stdout",
          "text": [
            "[0.03 0.19 0.34 0.46 0.78 0.81 1.08 1.18 1.39 1.6  1.65 1.9 ]\n",
            "[0.212 0.276 0.336 0.384 0.512 0.524 0.632 0.672 0.756 0.84  0.86  0.96 ]\n"
          ]
        }
      ]
    },
    {
      "cell_type": "code",
      "source": [
        "# Set the intercept and slope as in figure 2.2c\n",
        "phi0 = 1.60 ; phi1 =-0.8\n",
        "# Plot the data and the model\n",
        "plot_1D(x,y,phi0,phi1)\n",
        "loss_val = loss(x,y,phi0,phi1)\n",
        "print(f'Your Loss = {loss_val:3.2f}, Ground truth =10.28')"
      ],
      "metadata": {
        "colab": {
          "base_uri": "https://localhost:8080/",
          "height": 472
        },
        "id": "sRZOlZySybtv",
        "outputId": "9de6d288-c614-457f-9840-349e9adf0298"
      },
      "execution_count": 81,
      "outputs": [
        {
          "output_type": "display_data",
          "data": {
            "text/plain": [
              "<Figure size 640x480 with 1 Axes>"
            ],
            "image/png": "[encoded data removed]"
          },
          "metadata": {}
        },
        {
          "output_type": "stream",
          "name": "stdout",
          "text": [
            "Your Loss = 6.23, Ground truth =10.28\n"
          ]
        }
      ]
    }
  ]
}