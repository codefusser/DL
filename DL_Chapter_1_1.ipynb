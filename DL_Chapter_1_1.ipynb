{
  "nbformat": 4,
  "nbformat_minor": 0,
  "metadata": {
    "colab": {
      "provenance": [],
      "authorship_tag": "ABX9TyNxcY3CeSLo4fJEOd0GmDNM",
      "include_colab_link": true
    },
    "kernelspec": {
      "name": "python3",
      "display_name": "Python 3"
    },
    "language_info": {
      "name": "python"
    }
  },
  "cells": [
    {
      "cell_type": "markdown",
      "metadata": {
        "id": "view-in-github",
        "colab_type": "text"
      },
      "source": [
        "<a href=\"https://colab.research.google.com/github/codefusser/DL/blob/main/DL_Chapter_1_1.ipynb\" target=\"_parent\"><img src=\"https://colab.research.google.com/assets/colab-badge.svg\" alt=\"Open In Colab\"/></a>"
      ]
    },
    {
      "cell_type": "code",
      "execution_count": 1,
      "metadata": {
        "id": "XKX6ek3t4dRQ"
      },
      "outputs": [],
      "source": [
        "# import numpy library for math\n",
        "import numpy as np\n",
        "# import matplotlib library for plotting\n",
        "import matplotlib.pyplot as plt"
      ]
    },
    {
      "cell_type": "code",
      "source": [
        "def linear_function_1D(x, beta, omega):\n",
        "  # the code line below is the formula for 1D linear equation\n",
        "  y = beta + (omega * x)\n",
        "\n",
        "  return y"
      ],
      "metadata": {
        "id": "vapxl9u1z-IS"
      },
      "execution_count": 2,
      "outputs": []
    }
  ]
}