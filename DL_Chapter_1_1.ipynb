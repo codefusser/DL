{
  "nbformat": 4,
  "nbformat_minor": 0,
  "metadata": {
    "colab": {
      "provenance": [],
      "authorship_tag": "ABX9TyNK4jmMCwys67+EcrtqCaCy",
      "include_colab_link": true
    },
    "kernelspec": {
      "name": "python3",
      "display_name": "Python 3"
    },
    "language_info": {
      "name": "python"
    }
  },
  "cells": [
    {
      "cell_type": "markdown",
      "metadata": {
        "id": "view-in-github",
        "colab_type": "text"
      },
      "source": [
        "<a href=\"https://colab.research.google.com/github/codefusser/DL/blob/main/DL_Chapter_1_1.ipynb\" target=\"_parent\"><img src=\"https://colab.research.google.com/assets/colab-badge.svg\" alt=\"Open In Colab\"/></a>"
      ]
    },
    {
      "cell_type": "code",
      "execution_count": 1,
      "metadata": {
        "id": "XKX6ek3t4dRQ"
      },
      "outputs": [],
      "source": [
        "# import numpy library for math\n",
        "import numpy as np\n",
        "# import matplotlib library for plotting\n",
        "import matplotlib.pyplot as plt"
      ]
    },
    {
      "cell_type": "code",
      "source": [
        "def linear_function_1D(x, beta, omega):\n",
        "  # the code line below is the formula for 1D linear equation\n",
        "  y = beta + (omega * x)\n",
        "\n",
        "  return y"
      ],
      "metadata": {
        "id": "vapxl9u1z-IS"
      },
      "execution_count": 2,
      "outputs": []
    },
    {
      "cell_type": "code",
      "source": [
        "# plot the 1D linear function\n",
        "# Define an array of x values from 0 to 10 with increments of 0.01\n",
        "# https://numpy.org/doc/stable/reference/generated/numpy.arange.html\n",
        "\n",
        "x = np.arange(0.0, 10.0, 0.01)\n",
        "# Compute y using the function you filled in above\n",
        "beta = 0.0; omega =1.0\n",
        "\n",
        "y = linear_function_1D(x, beta, omega)\n",
        "\n",
        "# plot this function\n",
        "fig, ax = plt.subplots()\n",
        "ax.plot(x, y, 'r-')\n",
        "ax.set_xlabel('x'); ax.set_ylabel('y')\n",
        "\n",
        "# to view certain value limits on the x and y axes\n",
        "ax.set_xlim([0, 10]); ax.set_ylim([0, 10])\n",
        "\n",
        "ax.set_title('1D Linear Function')\n",
        "plt.show()"
      ],
      "metadata": {
        "colab": {
          "base_uri": "https://localhost:8080/",
          "height": 472
        },
        "id": "J07WlEyX2Cop",
        "outputId": "c8c9efe6-7e30-4109-b731-3c08e0921235"
      },
      "execution_count": 21,
      "outputs": [
        {
          "output_type": "display_data",
          "data": {
            "text/plain": [
              "<Figure size 640x480 with 1 Axes>"
            ],
            "image/png": "[encoded data removed]"
          },
          "metadata": {}
        }
      ]
    },
    {
      "cell_type": "code",
      "source": [
        "# code to draw 2D function\n",
        "def draw_2D_function(x1_mesh, x2_mesh, y):\n",
        "  fig, ax = plt.subplot()\n",
        "  fig.set_size_inches(7,7)\n",
        "\n",
        "  pos = ax.contourf(x1_mesh, x2_mesh, y, levels=256, cmap='hot', vmin=10, vmax=10.0)\n",
        "  fig.colorbar(pos, ax=ax)\n",
        "  ax.set_xlabel('x1'); ax.set_ylabel('x2')\n",
        "  levels = np.arange(-10, 10, 1.0)\n",
        "  ax.contour(x1_mesh, x2_mesh, y, levels, cmap='winter')\n",
        "  plt.show()\n"
      ],
      "metadata": {
        "id": "iNsAQXom9UyW"
      },
      "execution_count": 22,
      "outputs": []
    },
    {
      "cell_type": "code",
      "source": [
        "# Define a linear function with two inputs, x1 and x2\n",
        "def linear_function_2D(x1, x2, beta, omega1, omega2):\n",
        "  # the code line below is the formula for 2D linear equation\n",
        "  y = beta + (omega1 * x1) + (omega2 * x2)\n",
        "\n",
        "  return y"
      ],
      "metadata": {
        "id": "o-yRMBvtCN_y"
      },
      "execution_count": 23,
      "outputs": []
    },
    {
      "cell_type": "code",
      "source": [],
      "metadata": {
        "id": "LJtZ_4b9CnMd"
      },
      "execution_count": null,
      "outputs": []
    }
  ]
}