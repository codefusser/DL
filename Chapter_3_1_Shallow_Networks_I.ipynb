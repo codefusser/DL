{
  "nbformat": 4,
  "nbformat_minor": 0,
  "metadata": {
    "colab": {
      "provenance": [],
      "authorship_tag": "ABX9TyPeQiZceJgH9UBTzcSATIi0",
      "include_colab_link": true
    },
    "kernelspec": {
      "name": "python3",
      "display_name": "Python 3"
    },
    "language_info": {
      "name": "python"
    }
  },
  "cells": [
    {
      "cell_type": "markdown",
      "metadata": {
        "id": "view-in-github",
        "colab_type": "text"
      },
      "source": [
        "<a href=\"https://colab.research.google.com/github/codefusser/DL/blob/main/Chapter_3_1_Shallow_Networks_I.ipynb\" target=\"_parent\"><img src=\"https://colab.research.google.com/assets/colab-badge.svg\" alt=\"Open In Colab\"/></a>"
      ]
    },
    {
      "cell_type": "code",
      "execution_count": 1,
      "metadata": {
        "id": "6wS3OfYcXcrb"
      },
      "outputs": [],
      "source": [
        "# Imports math library\n",
        "import numpy as np\n",
        "# import the ReLU object\n",
        "\n",
        "# Imports plotting library\n",
        "import matplotlib.pyplot as plt"
      ]
    },
    {
      "cell_type": "code",
      "source": [
        "# define the ReLU funciton\n",
        "def ReLU(preactivation):\n",
        "  preactivation = np.clip(min=0, max=None,out=preactivation)\n",
        "  activation = np.zeros_like(preactivation)\n",
        "\n",
        "  return activation"
      ],
      "metadata": {
        "id": "2kTWX6hVnx6x"
      },
      "execution_count": 2,
      "outputs": []
    },
    {
      "cell_type": "code",
      "source": [
        "# define the ReLU function\n",
        "def ReLU_function(phi0, phi1, phi2, phi3, theta10, theta11, theta20, theta21, theta30, theta31, x, activation_function):\n",
        "  '''\n",
        "    This is the definition of the Rectified Linear Unit (ReLU) activation function.\n",
        "    Practically, the slope parameters (in this case, theta_ij) contribute to the weight of the model,\n",
        "    while the biases (in this case, phi_i) contribute to the output of the model.\n",
        "  '''\n",
        "  # define the hidden units\n",
        "  hidden_unit1 = activation_function(theta10 + theta11 * x)\n",
        "  hidden_unit2 = activation_function(theta20 + theta21 * x)\n",
        "  hidden_unit3 = activation_function(theta30 + theta31 * x)\n",
        "\n",
        "  # define the hidden layers (suggests an alternative model design)\n",
        "  hidden_layer1 = phi0 + phi1 * hidden_unit1\n",
        "  hidden_layer2 = phi0 + phi2 * hidden_unit2\n",
        "  hidden_layer3 = phi0 + phi3 * hidden_unit3\n",
        "\n",
        "  # ideal model output\n",
        "  return phi0 + phi1 * hidden_unit1 + phi2 * hidden_unit2 + phi3 * hidden_unit3\n",
        "\n",
        "# define the standard ReLU activation function\n",
        "def standard_ReLU(x):\n",
        "  return np.maximum(0, x)\n",
        "\n",
        "activation_function = np.vectorize(ReLU)"
      ],
      "metadata": {
        "id": "J2-VwJKPaWfR"
      },
      "execution_count": 3,
      "outputs": []
    },
    {
      "cell_type": "code",
      "source": [],
      "metadata": {
        "id": "O_QLw82odNuo"
      },
      "execution_count": null,
      "outputs": []
    },
    {
      "cell_type": "code",
      "metadata": {
        "colab": {
          "base_uri": "https://localhost:8080/",
          "height": 564
        },
        "id": "bdb08798",
        "outputId": "8dd276cb-3431-42f9-d6b0-1ff1610e5902"
      },
      "source": [
        "# Generate some x values\n",
        "x_values = np.linspace(-5, 5, 100)\n",
        "\n",
        "# Calculate the corresponding y values using the standard_ReLU function\n",
        "y_values = standard_ReLU(x_values)\n",
        "\n",
        "# Plot the standard ReLU function\n",
        "plt.figure(figsize=(8, 6))\n",
        "plt.plot(x_values, y_values)\n",
        "plt.title('Standard ReLU Function')\n",
        "plt.xlabel('x')\n",
        "plt.ylabel('ReLU(x)')\n",
        "plt.grid(True)\n",
        "plt.show()"
      ],
      "execution_count": 4,
      "outputs": [
        {
          "output_type": "display_data",
          "data": {
            "text/plain": [
              "<Figure size 800x600 with 1 Axes>"
            ],
            "image/png": "[encoded data removed]"
          },
          "metadata": {}
        }
      ]
    },
    {
      "cell_type": "code",
      "source": [
        "# define the ReLU funciton\n",
        "def ReLU(preactivation):\n",
        "  # 'None' means there is no upper bound, so only the lower bound of 0 is enforced.\n",
        "  preactivation = np.clip(a=preactivation, a_min=0, a_max=None)\n",
        "  activation = np.zeros_like(preactivation)\n",
        "\n",
        "  return activation"
      ],
      "metadata": {
        "id": "syq0Lcplpquz"
      },
      "execution_count": 9,
      "outputs": []
    },
    {
      "cell_type": "code",
      "source": [
        "x_input = np.array([-5, -1, 0, 2, 10])\n",
        "print(ReLU(x_input))"
      ],
      "metadata": {
        "colab": {
          "base_uri": "https://localhost:8080/"
        },
        "id": "aOcOZ-5hpr9Z",
        "outputId": "18244b17-a448-4839-83b0-825cbfd088c9"
      },
      "execution_count": 6,
      "outputs": [
        {
          "output_type": "stream",
          "name": "stdout",
          "text": [
            "(array([0, 0, 0, 0, 0]), array([ 0,  0,  0,  2, 10]))\n"
          ]
        }
      ]
    },
    {
      "cell_type": "code",
      "source": [
        "x_input1 = np.array([-5, -1, 0, 2, 10])\n",
        "a_min = np.array([-2, -1, 0, 6, 7])\n",
        "a_max = np.array([1, 2, 3, 4, 5])\n",
        "\n",
        "print(np.clip(x_input1, a_min, a_max))"
      ],
      "metadata": {
        "colab": {
          "base_uri": "https://localhost:8080/"
        },
        "id": "ilYH_sf4vIcm",
        "outputId": "efb8cd41-449c-4640-a3f1-0450adcdff69"
      },
      "execution_count": 7,
      "outputs": [
        {
          "output_type": "stream",
          "name": "stdout",
          "text": [
            "[-2 -1  0  4  5]\n"
          ]
        }
      ]
    },
    {
      "cell_type": "code",
      "source": [
        "# define a multivariable output function with hidden units\n",
        "def multivariable_output(phi0, phi1, phi2, phi3, theta10, theta11, theta20, theta21, theta30, theta31, x):\n",
        "  # define the hidden units\n",
        "  hidden_unit1 = ReLU(theta10 + theta11 * x)\n",
        "  hidden_unit2 = ReLU(theta20 + theta21 * x)\n",
        "  hidden_unit3 = ReLU(theta30 + theta31 * x)\n",
        "\n",
        "  # output the multivariate values as a tuple\n",
        "  return (phi0 + phi1 * hidden_unit1, phi0 + phi2 * hidden_unit2, phi0 + phi3 * hidden_unit3)"
      ],
      "metadata": {
        "id": "zvazgPwPI_nc"
      },
      "execution_count": 10,
      "outputs": []
    }
  ]
}